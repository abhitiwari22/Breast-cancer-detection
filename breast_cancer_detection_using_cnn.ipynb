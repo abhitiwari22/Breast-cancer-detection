{
  "nbformat": 4,
  "nbformat_minor": 0,
  "metadata": {
    "colab": {
      "name": "breast_cancer_detection_using_cnn.ipynb",
      "provenance": []
    },
    "kernelspec": {
      "name": "python3",
      "display_name": "Python 3"
    },
    "language_info": {
      "name": "python"
    },
    "accelerator": "GPU"
  },
  "cells": [
    {
      "cell_type": "code",
      "metadata": {
        "colab": {
          "base_uri": "https://localhost:8080/"
        },
        "id": "UUTnXPciX0o3",
        "outputId": "9d70df56-d846-42da-cd67-9e66cc886164"
      },
      "source": [
        "from google.colab import drive\n",
        "drive.mount('/content/drive')"
      ],
      "execution_count": null,
      "outputs": [
        {
          "output_type": "stream",
          "name": "stdout",
          "text": [
            "Mounted at /content/drive\n"
          ]
        }
      ]
    },
    {
      "cell_type": "code",
      "metadata": {
        "id": "4D6teGt1YTXZ"
      },
      "source": [
        "\n",
        "import tensorflow as tf\n",
        "\n",
        "import keras.backend as K\n",
        "from keras.models import Sequential\n",
        "from keras.layers import Dense ,Conv1D,Flatten\n",
        "from tensorflow.keras.optimizers import Adam\n",
        "from keras.callbacks import EarlyStopping\n",
        "from tensorflow.keras.utils import to_categorical\n",
        "import keras\n",
        "\n",
        "\n",
        "from keras.layers import BatchNormalization\n",
        "from keras.layers import Dropout\n",
        "from keras import regularizers\n",
        "\n",
        "\n",
        "\n",
        "import sklearn\n",
        "from sklearn import preprocessing\n",
        "from sklearn.model_selection import train_test_split\n",
        "\n",
        "\n",
        "import pandas as pd\n",
        "import numpy as np\n",
        "import matplotlib.pyplot as plt\n",
        "import seaborn as sns"
      ],
      "execution_count": null,
      "outputs": []
    },
    {
      "cell_type": "code",
      "metadata": {
        "colab": {
          "base_uri": "https://localhost:8080/",
          "height": 261
        },
        "id": "GHbzHoX3YTa0",
        "outputId": "019a65b2-38db-4e0d-b9ac-d6d9b251ef8d"
      },
      "source": [
        "df = pd.read_csv(\"/content/drive/MyDrive/breast cancer/20210926_DSC 7452 _Batch97_Modeule End Mentosrship_Case Study/breast_cancer_dataframe.csv\")\n",
        "df.head()"
      ],
      "execution_count": null,
      "outputs": [
        {
          "output_type": "execute_result",
          "data": {
            "text/html": [
              "<div>\n",
              "<style scoped>\n",
              "    .dataframe tbody tr th:only-of-type {\n",
              "        vertical-align: middle;\n",
              "    }\n",
              "\n",
              "    .dataframe tbody tr th {\n",
              "        vertical-align: top;\n",
              "    }\n",
              "\n",
              "    .dataframe thead th {\n",
              "        text-align: right;\n",
              "    }\n",
              "</style>\n",
              "<table border=\"1\" class=\"dataframe\">\n",
              "  <thead>\n",
              "    <tr style=\"text-align: right;\">\n",
              "      <th></th>\n",
              "      <th>Unnamed: 0</th>\n",
              "      <th>mean radius</th>\n",
              "      <th>mean texture</th>\n",
              "      <th>mean perimeter</th>\n",
              "      <th>mean area</th>\n",
              "      <th>mean smoothness</th>\n",
              "      <th>mean compactness</th>\n",
              "      <th>mean concavity</th>\n",
              "      <th>mean concave points</th>\n",
              "      <th>mean symmetry</th>\n",
              "      <th>mean fractal dimension</th>\n",
              "      <th>radius error</th>\n",
              "      <th>texture error</th>\n",
              "      <th>perimeter error</th>\n",
              "      <th>area error</th>\n",
              "      <th>smoothness error</th>\n",
              "      <th>compactness error</th>\n",
              "      <th>concavity error</th>\n",
              "      <th>concave points error</th>\n",
              "      <th>symmetry error</th>\n",
              "      <th>fractal dimension error</th>\n",
              "      <th>worst radius</th>\n",
              "      <th>worst texture</th>\n",
              "      <th>worst perimeter</th>\n",
              "      <th>worst area</th>\n",
              "      <th>worst smoothness</th>\n",
              "      <th>worst compactness</th>\n",
              "      <th>worst concavity</th>\n",
              "      <th>worst concave points</th>\n",
              "      <th>worst symmetry</th>\n",
              "      <th>worst fractal dimension</th>\n",
              "      <th>target</th>\n",
              "    </tr>\n",
              "  </thead>\n",
              "  <tbody>\n",
              "    <tr>\n",
              "      <th>0</th>\n",
              "      <td>0</td>\n",
              "      <td>17.99</td>\n",
              "      <td>10.38</td>\n",
              "      <td>122.80</td>\n",
              "      <td>1001.0</td>\n",
              "      <td>0.11840</td>\n",
              "      <td>0.27760</td>\n",
              "      <td>0.3001</td>\n",
              "      <td>0.14710</td>\n",
              "      <td>0.2419</td>\n",
              "      <td>0.07871</td>\n",
              "      <td>1.0950</td>\n",
              "      <td>0.9053</td>\n",
              "      <td>8.589</td>\n",
              "      <td>153.40</td>\n",
              "      <td>0.006399</td>\n",
              "      <td>0.04904</td>\n",
              "      <td>0.05373</td>\n",
              "      <td>0.01587</td>\n",
              "      <td>0.03003</td>\n",
              "      <td>0.006193</td>\n",
              "      <td>25.38</td>\n",
              "      <td>17.33</td>\n",
              "      <td>184.60</td>\n",
              "      <td>2019.0</td>\n",
              "      <td>0.1622</td>\n",
              "      <td>0.6656</td>\n",
              "      <td>0.7119</td>\n",
              "      <td>0.2654</td>\n",
              "      <td>0.4601</td>\n",
              "      <td>0.11890</td>\n",
              "      <td>0.0</td>\n",
              "    </tr>\n",
              "    <tr>\n",
              "      <th>1</th>\n",
              "      <td>1</td>\n",
              "      <td>20.57</td>\n",
              "      <td>17.77</td>\n",
              "      <td>132.90</td>\n",
              "      <td>1326.0</td>\n",
              "      <td>0.08474</td>\n",
              "      <td>0.07864</td>\n",
              "      <td>0.0869</td>\n",
              "      <td>0.07017</td>\n",
              "      <td>0.1812</td>\n",
              "      <td>0.05667</td>\n",
              "      <td>0.5435</td>\n",
              "      <td>0.7339</td>\n",
              "      <td>3.398</td>\n",
              "      <td>74.08</td>\n",
              "      <td>0.005225</td>\n",
              "      <td>0.01308</td>\n",
              "      <td>0.01860</td>\n",
              "      <td>0.01340</td>\n",
              "      <td>0.01389</td>\n",
              "      <td>0.003532</td>\n",
              "      <td>24.99</td>\n",
              "      <td>23.41</td>\n",
              "      <td>158.80</td>\n",
              "      <td>1956.0</td>\n",
              "      <td>0.1238</td>\n",
              "      <td>0.1866</td>\n",
              "      <td>0.2416</td>\n",
              "      <td>0.1860</td>\n",
              "      <td>0.2750</td>\n",
              "      <td>0.08902</td>\n",
              "      <td>0.0</td>\n",
              "    </tr>\n",
              "    <tr>\n",
              "      <th>2</th>\n",
              "      <td>2</td>\n",
              "      <td>19.69</td>\n",
              "      <td>21.25</td>\n",
              "      <td>130.00</td>\n",
              "      <td>1203.0</td>\n",
              "      <td>0.10960</td>\n",
              "      <td>0.15990</td>\n",
              "      <td>0.1974</td>\n",
              "      <td>0.12790</td>\n",
              "      <td>0.2069</td>\n",
              "      <td>0.05999</td>\n",
              "      <td>0.7456</td>\n",
              "      <td>0.7869</td>\n",
              "      <td>4.585</td>\n",
              "      <td>94.03</td>\n",
              "      <td>0.006150</td>\n",
              "      <td>0.04006</td>\n",
              "      <td>0.03832</td>\n",
              "      <td>0.02058</td>\n",
              "      <td>0.02250</td>\n",
              "      <td>0.004571</td>\n",
              "      <td>23.57</td>\n",
              "      <td>25.53</td>\n",
              "      <td>152.50</td>\n",
              "      <td>1709.0</td>\n",
              "      <td>0.1444</td>\n",
              "      <td>0.4245</td>\n",
              "      <td>0.4504</td>\n",
              "      <td>0.2430</td>\n",
              "      <td>0.3613</td>\n",
              "      <td>0.08758</td>\n",
              "      <td>0.0</td>\n",
              "    </tr>\n",
              "    <tr>\n",
              "      <th>3</th>\n",
              "      <td>3</td>\n",
              "      <td>11.42</td>\n",
              "      <td>20.38</td>\n",
              "      <td>77.58</td>\n",
              "      <td>386.1</td>\n",
              "      <td>0.14250</td>\n",
              "      <td>0.28390</td>\n",
              "      <td>0.2414</td>\n",
              "      <td>0.10520</td>\n",
              "      <td>0.2597</td>\n",
              "      <td>0.09744</td>\n",
              "      <td>0.4956</td>\n",
              "      <td>1.1560</td>\n",
              "      <td>3.445</td>\n",
              "      <td>27.23</td>\n",
              "      <td>0.009110</td>\n",
              "      <td>0.07458</td>\n",
              "      <td>0.05661</td>\n",
              "      <td>0.01867</td>\n",
              "      <td>0.05963</td>\n",
              "      <td>0.009208</td>\n",
              "      <td>14.91</td>\n",
              "      <td>26.50</td>\n",
              "      <td>98.87</td>\n",
              "      <td>567.7</td>\n",
              "      <td>0.2098</td>\n",
              "      <td>0.8663</td>\n",
              "      <td>0.6869</td>\n",
              "      <td>0.2575</td>\n",
              "      <td>0.6638</td>\n",
              "      <td>0.17300</td>\n",
              "      <td>0.0</td>\n",
              "    </tr>\n",
              "    <tr>\n",
              "      <th>4</th>\n",
              "      <td>4</td>\n",
              "      <td>20.29</td>\n",
              "      <td>14.34</td>\n",
              "      <td>135.10</td>\n",
              "      <td>1297.0</td>\n",
              "      <td>0.10030</td>\n",
              "      <td>0.13280</td>\n",
              "      <td>0.1980</td>\n",
              "      <td>0.10430</td>\n",
              "      <td>0.1809</td>\n",
              "      <td>0.05883</td>\n",
              "      <td>0.7572</td>\n",
              "      <td>0.7813</td>\n",
              "      <td>5.438</td>\n",
              "      <td>94.44</td>\n",
              "      <td>0.011490</td>\n",
              "      <td>0.02461</td>\n",
              "      <td>0.05688</td>\n",
              "      <td>0.01885</td>\n",
              "      <td>0.01756</td>\n",
              "      <td>0.005115</td>\n",
              "      <td>22.54</td>\n",
              "      <td>16.67</td>\n",
              "      <td>152.20</td>\n",
              "      <td>1575.0</td>\n",
              "      <td>0.1374</td>\n",
              "      <td>0.2050</td>\n",
              "      <td>0.4000</td>\n",
              "      <td>0.1625</td>\n",
              "      <td>0.2364</td>\n",
              "      <td>0.07678</td>\n",
              "      <td>0.0</td>\n",
              "    </tr>\n",
              "  </tbody>\n",
              "</table>\n",
              "</div>"
            ],
            "text/plain": [
              "   Unnamed: 0  mean radius  ...  worst fractal dimension  target\n",
              "0           0        17.99  ...                  0.11890     0.0\n",
              "1           1        20.57  ...                  0.08902     0.0\n",
              "2           2        19.69  ...                  0.08758     0.0\n",
              "3           3        11.42  ...                  0.17300     0.0\n",
              "4           4        20.29  ...                  0.07678     0.0\n",
              "\n",
              "[5 rows x 32 columns]"
            ]
          },
          "metadata": {},
          "execution_count": 3
        }
      ]
    },
    {
      "cell_type": "code",
      "metadata": {
        "colab": {
          "base_uri": "https://localhost:8080/"
        },
        "id": "cIibv4p8YTdb",
        "outputId": "26064566-fd02-400a-952c-cd6696dc92cd"
      },
      "source": [
        "df.info()"
      ],
      "execution_count": null,
      "outputs": [
        {
          "output_type": "stream",
          "name": "stdout",
          "text": [
            "<class 'pandas.core.frame.DataFrame'>\n",
            "RangeIndex: 569 entries, 0 to 568\n",
            "Data columns (total 32 columns):\n",
            " #   Column                   Non-Null Count  Dtype  \n",
            "---  ------                   --------------  -----  \n",
            " 0   Unnamed: 0               569 non-null    int64  \n",
            " 1   mean radius              569 non-null    float64\n",
            " 2   mean texture             569 non-null    float64\n",
            " 3   mean perimeter           569 non-null    float64\n",
            " 4   mean area                569 non-null    float64\n",
            " 5   mean smoothness          569 non-null    float64\n",
            " 6   mean compactness         569 non-null    float64\n",
            " 7   mean concavity           569 non-null    float64\n",
            " 8   mean concave points      569 non-null    float64\n",
            " 9   mean symmetry            569 non-null    float64\n",
            " 10  mean fractal dimension   569 non-null    float64\n",
            " 11  radius error             569 non-null    float64\n",
            " 12  texture error            569 non-null    float64\n",
            " 13  perimeter error          569 non-null    float64\n",
            " 14  area error               569 non-null    float64\n",
            " 15  smoothness error         569 non-null    float64\n",
            " 16  compactness error        569 non-null    float64\n",
            " 17  concavity error          569 non-null    float64\n",
            " 18  concave points error     569 non-null    float64\n",
            " 19  symmetry error           569 non-null    float64\n",
            " 20  fractal dimension error  569 non-null    float64\n",
            " 21  worst radius             569 non-null    float64\n",
            " 22  worst texture            569 non-null    float64\n",
            " 23  worst perimeter          569 non-null    float64\n",
            " 24  worst area               569 non-null    float64\n",
            " 25  worst smoothness         569 non-null    float64\n",
            " 26  worst compactness        569 non-null    float64\n",
            " 27  worst concavity          569 non-null    float64\n",
            " 28  worst concave points     569 non-null    float64\n",
            " 29  worst symmetry           569 non-null    float64\n",
            " 30  worst fractal dimension  569 non-null    float64\n",
            " 31  target                   569 non-null    float64\n",
            "dtypes: float64(31), int64(1)\n",
            "memory usage: 142.4 KB\n"
          ]
        }
      ]
    },
    {
      "cell_type": "code",
      "metadata": {
        "id": "kHhj4o8cYTi2"
      },
      "source": [
        "df = df.drop([\"Unnamed: 0\"],axis=1)"
      ],
      "execution_count": null,
      "outputs": []
    },
    {
      "cell_type": "code",
      "metadata": {
        "colab": {
          "base_uri": "https://localhost:8080/"
        },
        "id": "89lk6zyFeitH",
        "outputId": "c9c33f86-634c-48a9-bbe9-57bb41bf481f"
      },
      "source": [
        "df.shape"
      ],
      "execution_count": null,
      "outputs": [
        {
          "output_type": "execute_result",
          "data": {
            "text/plain": [
              "(569, 31)"
            ]
          },
          "metadata": {},
          "execution_count": 6
        }
      ]
    },
    {
      "cell_type": "code",
      "metadata": {
        "id": "zsS1gN4DYTlv"
      },
      "source": [
        "#independent and Dependent features\n",
        "X =df.drop(['target'], axis = 1)\n",
        "y =df['target']"
      ],
      "execution_count": null,
      "outputs": []
    },
    {
      "cell_type": "code",
      "metadata": {
        "id": "e5JMtms1YTon"
      },
      "source": [
        "# Splitting the dataset into the Training set and Test set\n",
        "X_train, X_test, y_train, y_test = train_test_split(X, y, test_size = 0.3, random_state = 0)"
      ],
      "execution_count": null,
      "outputs": []
    },
    {
      "cell_type": "code",
      "metadata": {
        "id": "FYSA_MGG1bMu"
      },
      "source": [
        "#Feature Scaling\n",
        "from sklearn.preprocessing import StandardScaler\n",
        "sc = StandardScaler()\n",
        "X_train = sc.fit_transform(X_train)\n",
        "X_test = sc.transform(X_test)"
      ],
      "execution_count": null,
      "outputs": []
    },
    {
      "cell_type": "code",
      "metadata": {
        "id": "WDXnRzJniU9p"
      },
      "source": [
        "model = Sequential()\n",
        "model.add(Conv1D(filters=16,kernel_size=2,activation='relu',input_shape=(30,1)))\n",
        "model.add(BatchNormalization())\n",
        "model.add(Dropout(0.2))\n",
        "\n",
        "model.add(Conv1D(32,2,activation='relu'))\n",
        "model.add(BatchNormalization())\n",
        "model.add(Dropout(0.2))\n",
        "\n",
        "model.add(Flatten())\n",
        "model.add(Dense(32,activation='relu'))\n",
        "model.add(Dropout(0.2))\n",
        "\n",
        "model.add(Dense(1,activation='sigmoid'))"
      ],
      "execution_count": null,
      "outputs": []
    },
    {
      "cell_type": "code",
      "metadata": {
        "colab": {
          "base_uri": "https://localhost:8080/"
        },
        "id": "DptCLToeiVIR",
        "outputId": "a6c04a24-8ec7-46fb-e000-65c868de0392"
      },
      "source": [
        "model.summary()"
      ],
      "execution_count": null,
      "outputs": [
        {
          "output_type": "stream",
          "name": "stdout",
          "text": [
            "Model: \"sequential\"\n",
            "_________________________________________________________________\n",
            " Layer (type)                Output Shape              Param #   \n",
            "=================================================================\n",
            " conv1d (Conv1D)             (None, 29, 16)            48        \n",
            "                                                                 \n",
            " batch_normalization (BatchN  (None, 29, 16)           64        \n",
            " ormalization)                                                   \n",
            "                                                                 \n",
            " dropout (Dropout)           (None, 29, 16)            0         \n",
            "                                                                 \n",
            " conv1d_1 (Conv1D)           (None, 28, 32)            1056      \n",
            "                                                                 \n",
            " batch_normalization_1 (Batc  (None, 28, 32)           128       \n",
            " hNormalization)                                                 \n",
            "                                                                 \n",
            " dropout_1 (Dropout)         (None, 28, 32)            0         \n",
            "                                                                 \n",
            " flatten (Flatten)           (None, 896)               0         \n",
            "                                                                 \n",
            " dense (Dense)               (None, 32)                28704     \n",
            "                                                                 \n",
            " dropout_2 (Dropout)         (None, 32)                0         \n",
            "                                                                 \n",
            " dense_1 (Dense)             (None, 1)                 33        \n",
            "                                                                 \n",
            "=================================================================\n",
            "Total params: 30,033\n",
            "Trainable params: 29,937\n",
            "Non-trainable params: 96\n",
            "_________________________________________________________________\n"
          ]
        }
      ]
    },
    {
      "cell_type": "code",
      "metadata": {
        "id": "gnSCiW1C3mme"
      },
      "source": [
        "model.compile(optimizer=Adam(learning_rate=0.0001),loss='binary_crossentropy',metrics=['accuracy'])"
      ],
      "execution_count": null,
      "outputs": []
    },
    {
      "cell_type": "code",
      "metadata": {
        "colab": {
          "base_uri": "https://localhost:8080/"
        },
        "id": "ZDA4_3EI3rAL",
        "outputId": "e4986f43-7262-4511-96ba-1ecf326f05af"
      },
      "source": [
        "history = model.fit(X_train,y_train,epochs=35,verbose=1,validation_data=(X_test,y_test))"
      ],
      "execution_count": null,
      "outputs": [
        {
          "output_type": "stream",
          "name": "stdout",
          "text": [
            "Epoch 1/35\n",
            "13/13 [==============================] - 14s 36ms/step - loss: 0.8135 - accuracy: 0.5151 - val_loss: 0.6714 - val_accuracy: 0.7251\n",
            "Epoch 2/35\n",
            "13/13 [==============================] - 0s 11ms/step - loss: 0.5929 - accuracy: 0.6759 - val_loss: 0.6409 - val_accuracy: 0.8889\n",
            "Epoch 3/35\n",
            "13/13 [==============================] - 0s 11ms/step - loss: 0.4596 - accuracy: 0.7688 - val_loss: 0.6092 - val_accuracy: 0.9006\n",
            "Epoch 4/35\n",
            "13/13 [==============================] - 0s 10ms/step - loss: 0.3719 - accuracy: 0.8668 - val_loss: 0.5783 - val_accuracy: 0.9064\n",
            "Epoch 5/35\n",
            "13/13 [==============================] - 0s 10ms/step - loss: 0.3177 - accuracy: 0.8844 - val_loss: 0.5473 - val_accuracy: 0.9123\n",
            "Epoch 6/35\n",
            "13/13 [==============================] - 0s 10ms/step - loss: 0.2814 - accuracy: 0.9020 - val_loss: 0.5158 - val_accuracy: 0.9240\n",
            "Epoch 7/35\n",
            "13/13 [==============================] - 0s 11ms/step - loss: 0.2547 - accuracy: 0.9070 - val_loss: 0.4859 - val_accuracy: 0.9240\n",
            "Epoch 8/35\n",
            "13/13 [==============================] - 0s 10ms/step - loss: 0.2285 - accuracy: 0.9322 - val_loss: 0.4571 - val_accuracy: 0.9357\n",
            "Epoch 9/35\n",
            "13/13 [==============================] - 0s 10ms/step - loss: 0.2239 - accuracy: 0.9045 - val_loss: 0.4311 - val_accuracy: 0.9415\n",
            "Epoch 10/35\n",
            "13/13 [==============================] - 0s 10ms/step - loss: 0.1934 - accuracy: 0.9523 - val_loss: 0.4027 - val_accuracy: 0.9415\n",
            "Epoch 11/35\n",
            "13/13 [==============================] - 0s 11ms/step - loss: 0.1714 - accuracy: 0.9372 - val_loss: 0.3765 - val_accuracy: 0.9474\n",
            "Epoch 12/35\n",
            "13/13 [==============================] - 0s 10ms/step - loss: 0.1737 - accuracy: 0.9548 - val_loss: 0.3503 - val_accuracy: 0.9474\n",
            "Epoch 13/35\n",
            "13/13 [==============================] - 0s 10ms/step - loss: 0.1564 - accuracy: 0.9548 - val_loss: 0.3253 - val_accuracy: 0.9474\n",
            "Epoch 14/35\n",
            "13/13 [==============================] - 0s 9ms/step - loss: 0.1720 - accuracy: 0.9472 - val_loss: 0.3012 - val_accuracy: 0.9474\n",
            "Epoch 15/35\n",
            "13/13 [==============================] - 0s 10ms/step - loss: 0.1491 - accuracy: 0.9623 - val_loss: 0.2789 - val_accuracy: 0.9474\n",
            "Epoch 16/35\n",
            "13/13 [==============================] - 0s 11ms/step - loss: 0.1480 - accuracy: 0.9598 - val_loss: 0.2591 - val_accuracy: 0.9474\n",
            "Epoch 17/35\n",
            "13/13 [==============================] - 0s 10ms/step - loss: 0.1473 - accuracy: 0.9422 - val_loss: 0.2410 - val_accuracy: 0.9474\n",
            "Epoch 18/35\n",
            "13/13 [==============================] - 0s 11ms/step - loss: 0.1183 - accuracy: 0.9673 - val_loss: 0.2232 - val_accuracy: 0.9474\n",
            "Epoch 19/35\n",
            "13/13 [==============================] - 0s 11ms/step - loss: 0.1367 - accuracy: 0.9598 - val_loss: 0.2083 - val_accuracy: 0.9474\n",
            "Epoch 20/35\n",
            "13/13 [==============================] - 0s 10ms/step - loss: 0.1213 - accuracy: 0.9698 - val_loss: 0.1939 - val_accuracy: 0.9474\n",
            "Epoch 21/35\n",
            "13/13 [==============================] - 0s 10ms/step - loss: 0.1161 - accuracy: 0.9698 - val_loss: 0.1811 - val_accuracy: 0.9474\n",
            "Epoch 22/35\n",
            "13/13 [==============================] - 0s 10ms/step - loss: 0.1082 - accuracy: 0.9623 - val_loss: 0.1700 - val_accuracy: 0.9474\n",
            "Epoch 23/35\n",
            "13/13 [==============================] - 0s 10ms/step - loss: 0.1191 - accuracy: 0.9698 - val_loss: 0.1602 - val_accuracy: 0.9532\n",
            "Epoch 24/35\n",
            "13/13 [==============================] - 0s 11ms/step - loss: 0.1206 - accuracy: 0.9598 - val_loss: 0.1521 - val_accuracy: 0.9532\n",
            "Epoch 25/35\n",
            "13/13 [==============================] - 0s 10ms/step - loss: 0.1122 - accuracy: 0.9573 - val_loss: 0.1448 - val_accuracy: 0.9591\n",
            "Epoch 26/35\n",
            "13/13 [==============================] - 0s 10ms/step - loss: 0.0880 - accuracy: 0.9824 - val_loss: 0.1380 - val_accuracy: 0.9591\n",
            "Epoch 27/35\n",
            "13/13 [==============================] - 0s 10ms/step - loss: 0.1104 - accuracy: 0.9648 - val_loss: 0.1315 - val_accuracy: 0.9591\n",
            "Epoch 28/35\n",
            "13/13 [==============================] - 0s 10ms/step - loss: 0.1014 - accuracy: 0.9698 - val_loss: 0.1265 - val_accuracy: 0.9591\n",
            "Epoch 29/35\n",
            "13/13 [==============================] - 0s 10ms/step - loss: 0.0973 - accuracy: 0.9673 - val_loss: 0.1215 - val_accuracy: 0.9649\n",
            "Epoch 30/35\n",
            "13/13 [==============================] - 0s 10ms/step - loss: 0.0987 - accuracy: 0.9724 - val_loss: 0.1169 - val_accuracy: 0.9708\n",
            "Epoch 31/35\n",
            "13/13 [==============================] - 0s 11ms/step - loss: 0.0909 - accuracy: 0.9749 - val_loss: 0.1124 - val_accuracy: 0.9708\n",
            "Epoch 32/35\n",
            "13/13 [==============================] - 0s 10ms/step - loss: 0.0985 - accuracy: 0.9648 - val_loss: 0.1082 - val_accuracy: 0.9766\n",
            "Epoch 33/35\n",
            "13/13 [==============================] - 0s 10ms/step - loss: 0.1065 - accuracy: 0.9623 - val_loss: 0.1049 - val_accuracy: 0.9766\n",
            "Epoch 34/35\n",
            "13/13 [==============================] - 0s 10ms/step - loss: 0.0905 - accuracy: 0.9749 - val_loss: 0.1023 - val_accuracy: 0.9766\n",
            "Epoch 35/35\n",
            "13/13 [==============================] - 0s 10ms/step - loss: 0.0888 - accuracy: 0.9648 - val_loss: 0.1004 - val_accuracy: 0.9766\n"
          ]
        }
      ]
    },
    {
      "cell_type": "code",
      "metadata": {
        "id": "e4pUyuuy3rCy"
      },
      "source": [
        "# Predicting the Test set results\n",
        "y_pred = model.predict(X_test)\n",
        "y_pred = (y_pred > 0.4)"
      ],
      "execution_count": null,
      "outputs": []
    },
    {
      "cell_type": "code",
      "metadata": {
        "colab": {
          "base_uri": "https://localhost:8080/"
        },
        "id": "wETl7Pgx3rI0",
        "outputId": "ac27d990-8e5f-47ae-8724-18abdf18c000"
      },
      "source": [
        "from sklearn.metrics import f1_score, confusion_matrix,classification_report\n",
        "print(classification_report(y_test,y_pred))"
      ],
      "execution_count": null,
      "outputs": [
        {
          "output_type": "stream",
          "name": "stdout",
          "text": [
            "              precision    recall  f1-score   support\n",
            "\n",
            "         0.0       1.00      0.89      0.94        63\n",
            "         1.0       0.94      1.00      0.97       108\n",
            "\n",
            "    accuracy                           0.96       171\n",
            "   macro avg       0.97      0.94      0.95       171\n",
            "weighted avg       0.96      0.96      0.96       171\n",
            "\n"
          ]
        }
      ]
    },
    {
      "cell_type": "code",
      "metadata": {
        "colab": {
          "base_uri": "https://localhost:8080/"
        },
        "id": "qveniU803rOK",
        "outputId": "7651e7d6-68cc-4c63-e13a-b76c750e9e30"
      },
      "source": [
        "cm = confusion_matrix(y_test, y_pred)\n",
        "print(cm)"
      ],
      "execution_count": null,
      "outputs": [
        {
          "output_type": "stream",
          "name": "stdout",
          "text": [
            "[[ 56   7]\n",
            " [  0 108]]\n"
          ]
        }
      ]
    },
    {
      "cell_type": "code",
      "metadata": {
        "id": "_Kcr6gMIB5mY"
      },
      "source": [
        "def plotLearningCurve(history,epochs):\n",
        "  epochRange = range(1,epochs+1)\n",
        "  plt.plot(epochRange,history.history['accuracy'])\n",
        "  plt.plot(epochRange,history.history['val_accuracy'])\n",
        "  plt.title('Model Accuracy')\n",
        "  plt.xlabel('Epoch')\n",
        "  plt.ylabel('Accuracy')\n",
        "  plt.legend(['Train','Validation'],loc='upper left')\n",
        "  plt.show()\n",
        "\n",
        "  plt.plot(epochRange,history.history['loss'])\n",
        "  plt.plot(epochRange,history.history['val_loss'])\n",
        "  plt.title('Model Loss')\n",
        "  plt.xlabel('Epoch')\n",
        "  plt.ylabel('Loss')\n",
        "  plt.legend(['Train','Validation'],loc='upper left')\n",
        "  plt.show()"
      ],
      "execution_count": null,
      "outputs": []
    },
    {
      "cell_type": "code",
      "metadata": {
        "colab": {
          "base_uri": "https://localhost:8080/",
          "height": 573
        },
        "id": "Ha1QWmtMB5rE",
        "outputId": "005fe1a5-1815-4d12-f3a1-a6b9882bf48c"
      },
      "source": [
        "plotLearningCurve(history,35)"
      ],
      "execution_count": null,
      "outputs": [
        {
          "output_type": "display_data",
          "data": {
            "image/png": "[encoded data removed]",
            "text/plain": [
              "<Figure size 432x288 with 1 Axes>"
            ]
          },
          "metadata": {
            "needs_background": "light"
          }
        },
        {
          "output_type": "display_data",
          "data": {
            "image/png": "[encoded data removed]",
            "text/plain": [
              "<Figure size 432x288 with 1 Axes>"
            ]
          },
          "metadata": {
            "needs_background": "light"
          }
        }
      ]
    }
  ]
}